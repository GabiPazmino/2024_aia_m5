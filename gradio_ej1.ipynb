{
 "cells": [
  {
   "cell_type": "markdown",
   "metadata": {},
   "source": [
    "Uso de Gradio para la interfaz de visualización de valores atípicos / anomalías (outliers)."
   ]
  },
  {
   "cell_type": "code",
   "execution_count": 3,
   "metadata": {},
   "outputs": [
    {
     "name": "stdout",
     "output_type": "stream",
     "text": [
      "Running on local URL:  http://127.0.0.1:7862\n",
      "\n",
      "To create a public link, set `share=True` in `launch()`.\n"
     ]
    },
    {
     "data": {
      "text/html": [
       "<div><iframe src=\"http://127.0.0.1:7862/\" width=\"100%\" height=\"500\" allow=\"autoplay; camera; microphone; clipboard-read; clipboard-write;\" frameborder=\"0\" allowfullscreen></iframe></div>"
      ],
      "text/plain": [
       "<IPython.core.display.HTML object>"
      ]
     },
     "metadata": {},
     "output_type": "display_data"
    },
    {
     "data": {
      "text/plain": []
     },
     "execution_count": 3,
     "metadata": {},
     "output_type": "execute_result"
    }
   ],
   "source": [
    "# Importación de librerías\n",
    "import pandas as pd\n",
    "import numpy as np\n",
    "import glob\n",
    "import gradio as gr\n",
    "import seaborn as sns\n",
    "import matplotlib.pyplot as plt\n",
    "\n",
    "# Lectura de archivos CSV\n",
    "path = \"samples/\"\n",
    "all_files = glob.glob(path + \"/*.csv\")\n",
    "df_list = []\n",
    "for filename in all_files:\n",
    "    df = pd.read_csv(filename, index_col=None, header=0)\n",
    "    df_list.append(df)\n",
    "\n",
    "# Unión de todos los archivos en un solo dataframe y reemplazo de valores faltantes con \"UNK\".\n",
    "df_concat = pd.concat(df_list, axis=0, ignore_index=True)\n",
    "df_concat[\"Tipo de alerta\"] = df_concat[\"Tipo de alerta\"].fillna(\"UNK\")\n",
    "\n",
    "\n",
    "# Función para calcular estadísticas y visualizar valores atípicos\n",
    "def ver_outliers_stats_y_limites(codigo, tipo_metrica, tipo_alerta):\n",
    "    # Filtración de los valores específicos\n",
    "    filtered_df = df_concat[\n",
    "        (df_concat[\"Codigo\"] == codigo)\n",
    "        & (df_concat[\"Clasificacion de metrica\"] == tipo_metrica)\n",
    "        & (df_concat[\"Tipo de alerta\"] == tipo_alerta)\n",
    "    ]\n",
    "\n",
    "    # Cálculo para detectar valores atípicos (outliers) en la columna Valor\n",
    "    q1 = filtered_df[\"Valor\"].quantile(0.25)\n",
    "    q3 = filtered_df[\"Valor\"].quantile(0.75)\n",
    "    iqr = q3 - q1\n",
    "    limite_inferior = q1 - 1.5 * iqr\n",
    "    limite_superior = q3 + 1.5 * iqr\n",
    "\n",
    "    # Creando la nueva figura\n",
    "    plt.figure(figsize=(10, 6))\n",
    "\n",
    "    #Creando histograma de la columna valor\n",
    "    plt.hist(filtered_df[\"Valor\"], bins=20, edgecolor='black')\n",
    "\n",
    "    # Ilustración de límites calculados\n",
    "    plt.axhline(\n",
    "        y=limite_inferior,\n",
    "        color=\"r\",\n",
    "        linestyle=\"--\",\n",
    "        label=\"Límite inferior (calculado)\",\n",
    "    )\n",
    "    plt.axhline(\n",
    "        y=limite_superior,\n",
    "        color=\"b\",\n",
    "        linestyle=\"--\",\n",
    "        label=\"Límite superior (calculado)\",\n",
    "    )\n",
    "    plt.legend()\n",
    "\n",
    "    # Personalizando la figura creada plt\n",
    "    plt.title(f\"Histograma para {codigo}, {tipo_metrica}, {tipo_alerta}\")\n",
    "    plt.xlabel(\"Valor\")\n",
    "    plt.ylabel(\"Frecuencia\")\n",
    "    plt.grid(True)\n",
    "\n",
    "    # Devolviendo la imagen y las estadísticas\n",
    "    return plt\n",
    "\n",
    "\n",
    "# Creación de las entradas como dropdowns\n",
    "codigo_dropdown = gr.Dropdown(list(df_concat[\"Codigo\"].unique()), label=\"Código\")\n",
    "clasificacion_metrica_dropdown = gr.Dropdown(\n",
    "    list(df_concat[\"Clasificacion de metrica\"].unique()),\n",
    "    label=\"Clasificacion de métrica\",\n",
    ")\n",
    "tipo_alerta_dropdown = gr.Dropdown(\n",
    "    list(df_concat[\"Tipo de alerta\"].unique()), label=\"Tipo de alerta\"\n",
    ")\n",
    "\n",
    "# Creación de la interfaz con Gradio\n",
    "demo = gr.Interface(\n",
    "    fn=ver_outliers_stats_y_limites,\n",
    "    inputs=[codigo_dropdown, clasificacion_metrica_dropdown, tipo_alerta_dropdown],\n",
    "    outputs=\"plot\",\n",
    "    title=\"Visualizar valores atípicos (outliers), estadísticas, y límites\",\n",
    "    description=\"Seleccione un código, una clasificación de métrica, y un tipo de alerta para visualizar outliers, ver estadísticas clave, y entender los límites que definen los outliers.\",\n",
    ")\n",
    "\n",
    "# Desplegando la interfaz\n",
    "demo.launch()"
   ]
  },
  {
   "cell_type": "code",
   "execution_count": null,
   "metadata": {},
   "outputs": [],
   "source": [
    "# Deteniendo la demostración\n",
    "demo.close()"
   ]
  }
 ],
 "metadata": {
  "kernelspec": {
   "display_name": "venv",
   "language": "python",
   "name": "python3"
  },
  "language_info": {
   "codemirror_mode": {
    "name": "ipython",
    "version": 3
   },
   "file_extension": ".py",
   "mimetype": "text/x-python",
   "name": "python",
   "nbconvert_exporter": "python",
   "pygments_lexer": "ipython3",
   "version": "3.12.4"
  }
 },
 "nbformat": 4,
 "nbformat_minor": 2
}
